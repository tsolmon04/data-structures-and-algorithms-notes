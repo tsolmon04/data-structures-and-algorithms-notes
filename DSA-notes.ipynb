{
  "metadata": {
    "language_info": {
      "codemirror_mode": "sql",
      "file_extension": "",
      "mimetype": "",
      "name": "sql",
      "version": "3.32.3"
    },
    "kernelspec": {
      "name": "python",
      "display_name": "Python (Pyodide)",
      "language": "python"
    }
  },
  "nbformat_minor": 4,
  "nbformat": 4,
  "cells": [
    {
      "cell_type": "markdown",
      "source": "# Data Structures and Algorithms in Python.\nby Tsolmon Gunaabazar",
      "metadata": {}
    },
    {
      "cell_type": "markdown",
      "source": "A data structure is a way to store data efficiently inside the Random Access Memory (RAM), which is measured in gigabytes. An array is a type of data structure that consists of an ordered and contiguous group of elements. Since computers only understand data in the form of 0's and 1's, each element in the array is converted to bytes, which are then translated into bits. Typically, integers require 4 bytes (32 bits) in memory, hence the addresses are 4 bytes apart. Characters require 1 byte (8 bits) and their addresses are 1 byte apart. Additionally, an address and a value are associated with each integer upon being stored in the RAM. An address is a unique location where each value is stored, and each value is stored contiguously, similar to how an array works.",
      "metadata": {}
    },
    {
      "cell_type": "markdown",
      "source": "# 1. Arrays.\n## 1.1 Static Arrays.\n>In strictly typed languages such as Java, C++, and C#, arrays are fixed in size and cannot be resized once initialized. These are called static arrays. On the other hand, dynamically typed languages like Python and JavaScript do not have static arrays.\nNow, let's discuss the fundamental array operations, including their efficiency and usage. The most commonly used operations are:\n>- Reading\n>- Deletion\n>- Insertion\n\nTo read an element from an array, we can access it using its index.",
      "metadata": {}
    },
    {
      "cell_type": "markdown",
      "source": "### 1.1.1 Creating a list.\n>You can create a list by enclosing a comma-separated sequence of values in square brackets:",
      "metadata": {}
    },
    {
      "cell_type": "code",
      "source": "my_list = [1, 2, 3, 4, 5]\nprint(my_list)",
      "metadata": {
        "trusted": true
      },
      "execution_count": null,
      "outputs": []
    },
    {
      "cell_type": "markdown",
      "source": "### 1.1.2 Accessing elements of a list.\n>You can access individual elements of a list using square brackets and a zero-based index.",
      "metadata": {}
    },
    {
      "cell_type": "code",
      "source": "my_list = [1, 2, 3, 4, 5]\nprint(my_list[0])\nprint(my_list[3])",
      "metadata": {
        "trusted": true
      },
      "execution_count": null,
      "outputs": []
    },
    {
      "cell_type": "markdown",
      "source": ">You can also use negative indices to access elements from the end of the list:",
      "metadata": {}
    },
    {
      "cell_type": "code",
      "source": "my_list = [1, 2, 3, 4, 5]\nprint(my_list[-1])\nprint(my_list[-3])",
      "metadata": {
        "trusted": true
      },
      "execution_count": null,
      "outputs": []
    },
    {
      "cell_type": "markdown",
      "source": "Since the index of each element maps to a specific address in the memory, the access time is constant, or O(1) in algorithm analysis terms. This means that the time taken to access an element from the array is unaffected by the size of the array, and will always take a single operation",
      "metadata": {}
    },
    {
      "cell_type": "markdown",
      "source": "### 1.1.3 Reading an array.\n>Using a for loop or a while loop, we can read all values from an array. ",
      "metadata": {}
    },
    {
      "cell_type": "code",
      "source": "for i in range(len(my_list)):\n    print(my_list[i])",
      "metadata": {
        "trusted": true
      },
      "execution_count": null,
      "outputs": []
    },
    {
      "cell_type": "markdown",
      "source": "or",
      "metadata": {}
    },
    {
      "cell_type": "code",
      "source": "i = 0 \nwhile i < my_list.size:\n    print(my_list[i])\n    i += 1",
      "metadata": {
        "trusted": true
      },
      "execution_count": null,
      "outputs": []
    },
    {
      "cell_type": "markdown",
      "source": "In the for loop, we only iterate until my_list.size-1 since that is the last accessible index of the array. The last index of the array is n−1, where n is the length of the array. This makes sense because the size of our array is 5, meaning it can hold five elements and if we start our index at 0, the last accessible index will be 4. If we try and access index 5, we will get an error.",
      "metadata": {}
    },
    {
      "cell_type": "markdown",
      "source": "### 1.1.4 Deleting from an array",
      "metadata": {}
    },
    {
      "cell_type": "markdown",
      "source": "#### Removing from the end of an array.",
      "metadata": {}
    },
    {
      "cell_type": "markdown",
      "source": "In strictly typed languages, when an array is initialized, all its indices are assigned a default value, usually 0 or null, to indicate an empty array. When we want to remove an element from the end of an array, we do not actually delete it, but rather overwrite its value with a default value that signifies an empty index. ",
      "metadata": {}
    },
    {
      "cell_type": "code",
      "source": "def remove_end(arr, size):\n    if size > 0:\n        arr[size - 1] = 0",
      "metadata": {
        "trusted": true
      },
      "execution_count": null,
      "outputs": []
    },
    {
      "cell_type": "markdown",
      "source": "This code sets the value of the last element in array arr to 0, effectively removing it from the array. However, the size of the array remains the same, and the removed element is still present in the memory, albeit with a different value.\n\nIt is important to note that this method of removal only works for the last element in the array. If we want to remove an element from the middle of the array, we need to shift all the subsequent elements to fill the empty index, which can be an expensive operation, especially for large arrays.",
      "metadata": {}
    },
    {
      "cell_type": "markdown",
      "source": "#### Removing at the i-th index.",
      "metadata": {}
    },
    {
      "cell_type": "markdown",
      "source": "Replacing the i-th index with a zero would not be a good way to approach the problem, as the index we wanted to delete at could be 0 and then we would have an empty first index, which would not make sense. In the worst case, the random index might be the \n0-th index, in which case, upon deletion, all the elements from index 1 all the way till n−1 will shift one position to the left, where n is the size of the array.",
      "metadata": {}
    },
    {
      "cell_type": "code",
      "source": "def remove_mid(arr, i, length):\n    for i in range(i + 1, length):\n        arr[i-1] = arr[i]",
      "metadata": {
        "trusted": true
      },
      "execution_count": null,
      "outputs": []
    },
    {
      "cell_type": "markdown",
      "source": "In the worst case, n shifts may be required, therefore the above code will be in O(n) space.",
      "metadata": {}
    },
    {
      "cell_type": "markdown",
      "source": "### 1.1.5 Insertion.",
      "metadata": {}
    },
    {
      "cell_type": "markdown",
      "source": "#### Insertion at the end of an array. \n>Since we can always access the last index of the array, inserting an element to the end of an array is O(1) time.",
      "metadata": {}
    },
    {
      "cell_type": "code",
      "source": "def ins_end(arr, n, length, capacity):\n    for size < capacity:\n        arr[size] = n",
      "metadata": {
        "trusted": true
      },
      "execution_count": null,
      "outputs": []
    },
    {
      "cell_type": "markdown",
      "source": "Here, length is the number of indices that are non-empty and capacity is the actual size of the array that is declared upon instantiation. This makes sense because we are assigning the length index, which is the current last index, to n, which is the desired value.",
      "metadata": {}
    },
    {
      "cell_type": "markdown",
      "source": "#### Inserting at i-th index.\n>When we are inserting at i-th index, we shift the current values one position to the right before we insert our new value, say, at index 0.",
      "metadata": {}
    },
    {
      "cell_type": "raw",
      "source": "def ins_middle(arr, i, n, length):\n    for i in range(length - 1, i - 1, -1):\n        arr[i + 1] = n\n    arr[i] = n",
      "metadata": {}
    },
    {
      "cell_type": "markdown",
      "source": "Operation                            Big-O time\nr/w i-th element                        O(1)\ninsert/remove end                       O(1)\ninsert middle                           O(n)\nremove middle                           O(n)",
      "metadata": {}
    },
    {
      "cell_type": "markdown",
      "source": "Leetcode problems:",
      "metadata": {}
    },
    {
      "cell_type": "code",
      "source": "def removeDuplicate(nums: list[int]) -> int:\n    \"\"\"Remove the duplicates array nums such that each unique element \n    appears only once and return the number of unique elements in nums.\n    >>> nums = [1,1,2]\n    2, nums = [1,2]\n    \"\"\"\n    #create left pointer to accumulate unique numbers and set it to 1\n    left = 1\n    #iterate right pointer to check for the duplicates\n    for right in range(1, len(nums)):\n        if nums[right] != nums[right -1]:\n            nums[left] = nums[right]\n            left += 1\n    return left",
      "metadata": {
        "trusted": true
      },
      "execution_count": null,
      "outputs": []
    },
    {
      "cell_type": "code",
      "source": "def remove_element(nums: list[int], val: int) -> int:\n    \"\"\"Remove all occurrences of val in nums in-place and \n    return the number of elements in nums which are not equal to val.\n    >>> remove_element([2,2,1,3,4,3], 3)\n    4, [2,2,1,4]\n    \"\"\"\n    for i in range(nums.count(val)):\n        nums.remove(val)\n    return len(nums)",
      "metadata": {
        "trusted": true
      },
      "execution_count": null,
      "outputs": []
    },
    {
      "cell_type": "markdown",
      "source": "## 1.2 Dynamic Arrays.\n>The difference between the dynamic arrays and static arrays is that dynamic arrays can be resized. In JavaScript and Python, these are the default — they are not strictly typed languages.",
      "metadata": {}
    },
    {
      "cell_type": "code",
      "source": "",
      "metadata": {},
      "execution_count": null,
      "outputs": []
    }
  ]
}